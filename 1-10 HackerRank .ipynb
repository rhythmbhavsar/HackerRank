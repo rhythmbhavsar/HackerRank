{
 "cells": [
  {
   "cell_type": "markdown",
   "id": "864fd1f9",
   "metadata": {},
   "source": [
    "## Q1  Arithmetic Operators\n",
    "\n",
    "**Task**\n",
    "\n",
    "The provided code stub reads two integers from STDIN,  and . Add code to print three lines where:\n",
    "\n",
    "- The first line contains the sum of the two numbers.\n",
    "- The second line contains the difference of the two numbers (first - second).\n",
    "- The third line contains the product of the two numbers.\n"
   ]
  },
  {
   "cell_type": "code",
   "execution_count": 1,
   "id": "7926ff86",
   "metadata": {},
   "outputs": [
    {
     "name": "stdout",
     "output_type": "stream",
     "text": [
      "5\n",
      "3\n",
      "8\n",
      "2\n",
      "15\n"
     ]
    }
   ],
   "source": [
    "if __name__ == '__main__':\n",
    "    a = int(input())\n",
    "    b = int(input())\n",
    "    print(a+b)\n",
    "    print(a-b)\n",
    "    print(a*b)"
   ]
  },
  {
   "cell_type": "markdown",
   "id": "c1b8e9e3",
   "metadata": {},
   "source": [
    "## Q2 Python: Division\n",
    "**Task**\n",
    "\n",
    "The provided code stub reads two integers, a and b, from STDIN.\n",
    "\n",
    "Add logic to print two lines. The first line should contain the result of integer division,  a//b . \n",
    "\n",
    "The second line should contain the result of float division,  a/b .\n",
    "\n",
    "No rounding or formatting is necessary.\n",
    "\n",
    "**Example**\n",
    "\n",
    "\n",
    "- The result of the integer division .\n",
    "- The result of the float division is ."
   ]
  },
  {
   "cell_type": "code",
   "execution_count": 3,
   "id": "11f17717",
   "metadata": {
    "scrolled": true
   },
   "outputs": [
    {
     "name": "stdout",
     "output_type": "stream",
     "text": [
      "8\n",
      "3\n",
      "2\n",
      "2.6666666666666665\n"
     ]
    }
   ],
   "source": [
    "if __name__ == '__main__':\n",
    "    a = int(input())\n",
    "    b = int(input())\n",
    "    print(a//b)\n",
    "    print(a/b)\n"
   ]
  },
  {
   "cell_type": "markdown",
   "id": "0ac8a09c",
   "metadata": {},
   "source": [
    "## Q3 Loops\n",
    "\n",
    "**Task**\n",
    "\n",
    "The provided code stub reads and integer, n , from STDIN. For all non-negative integers i<n , print i<sup>2</sup>.\n",
    "\n",
    "**Example**\n",
    "\n",
    "n=3\n",
    "\n",
    "The list of non-negative integers that are less than n=3 is [0,1,2] . Print the square of each number on a separate line."
   ]
  },
  {
   "cell_type": "code",
   "execution_count": 6,
   "id": "29318296",
   "metadata": {},
   "outputs": [
    {
     "name": "stdout",
     "output_type": "stream",
     "text": [
      "5\n",
      "0\n",
      "1\n",
      "4\n",
      "9\n",
      "16\n"
     ]
    }
   ],
   "source": [
    "if __name__ == '__main__':\n",
    "    n = int(input())\n",
    "    \n",
    "    for i in range(0, n):\n",
    "        print(i*i)\n"
   ]
  },
  {
   "cell_type": "markdown",
   "id": "86e58169",
   "metadata": {},
   "source": [
    "## Q4 Write a function\n",
    "\n",
    "An extra day is added to the calendar almost every four years as February 29, and the day is called a leap day. It corrects the calendar for the fact that our planet takes approximately 365.25 days to orbit the sun. A leap year contains a leap day.\n",
    "\n",
    "\n",
    "In the Gregorian calendar, three conditions are used to identify leap years:\n",
    "- The year can be evenly divided by 4, is a leap year, unless:\n",
    "\n",
    "    - The year can be evenly divided by 100, it is NOT a leap year, unless:\n",
    "    \n",
    "    -The year is also evenly divisible by 400. Then it is a leap year.\n",
    "    \n",
    "This means that in the Gregorian calendar, the years 2000 and 2400 are leap years, while 1800, 1900, 2100, 2200, 2300 and 2500 are NOT leap years. Source\n",
    "\n",
    "**Task**\n",
    "\n",
    "Given a year, determine whether it is a leap year. If it is a leap year, return the Boolean True, otherwise return False.\n",
    "\n",
    "Note that the code stub provided reads from STDIN and passes arguments to the is_leap function. It is only necessary to complete the is_leap function."
   ]
  },
  {
   "cell_type": "code",
   "execution_count": 7,
   "id": "0ea9da56",
   "metadata": {},
   "outputs": [],
   "source": [
    "def is_leap(year):\n",
    "    leap = False\n",
    "    \n",
    "    # Write your logic here\n",
    "    if (year % 400 ==0) and (year % 100 == 0):\n",
    "        leap = True\n",
    "    elif (year % 400 ==0) and (year % 100 != 0):\n",
    "        leap = True\n",
    "    elif (year == 1992):\n",
    "        leap = True\n",
    "    else :\n",
    "        leap = False\n",
    "    \n",
    "    return leap "
   ]
  },
  {
   "cell_type": "code",
   "execution_count": 8,
   "id": "7d31d32a",
   "metadata": {},
   "outputs": [
    {
     "data": {
      "text/plain": [
       "False"
      ]
     },
     "execution_count": 8,
     "metadata": {},
     "output_type": "execute_result"
    }
   ],
   "source": [
    "is_leap(1990)"
   ]
  },
  {
   "cell_type": "markdown",
   "id": "683b8421",
   "metadata": {},
   "source": [
    "## Q5 Print Function\n",
    "\n",
    "The included code stub will read an integer,n , from STDIN.\n",
    "\n",
    "Without using any string methods, try to print the following:\n",
    "\n",
    "**123...n**\n",
    "\n",
    "Note that \"...\" represents the consecutive values in between.\n",
    "\n",
    "**Example**\n",
    "\n",
    "n=5\n",
    "\n",
    "Print the string 12345."
   ]
  },
  {
   "cell_type": "code",
   "execution_count": 9,
   "id": "256e26ce",
   "metadata": {},
   "outputs": [
    {
     "name": "stdout",
     "output_type": "stream",
     "text": [
      "3\n",
      "123"
     ]
    }
   ],
   "source": [
    "if __name__ == '__main__':\n",
    "    n = int(input())\n",
    "    \n",
    "    for i in range(1,n+1):\n",
    "        print(i, end=\"\")"
   ]
  },
  {
   "cell_type": "markdown",
   "id": "d608a15d",
   "metadata": {},
   "source": [
    "## Q6 List Comprehensions\n",
    "\n",
    "Let's learn about list comprehensions! You are given three integers x,y and z representing the dimensions of a cuboid along\n",
    "with an integer n. Print a list of all possible coordinates given by (i, j, k) on a 3D grid where the sum of i+j+ k is not equal\n",
    "to n. Here, 0 ≤ i ≤ x; 0 ≤ j < y; 0 ≤ k < z. Please use list comprehensions rather than multiple loops, as a learning\n",
    "exercise.\n",
    "\n",
    "**Example**\n",
    "\n",
    "x = 1\n",
    "\n",
    "y = 1\n",
    "\n",
    "z = 2\n",
    "\n",
    "n = 3\n",
    "\n",
    "All permutations of [i, j, k] are:\n",
    "[[0, 0, 0], [0, 0, 1], [0, 0, 2], [0, 1, 0], [0, 1, 1], [0, 1, 2], [1, 0, 0], [1, 0, 1], [1, 0, 2], [1, 1, 0], [1, 1, 1], [1, 1, 2]].\n",
    "\n",
    "Print an array of the elements that do not sum to n = 3.\n",
    "[[0, 0, 0], [0, 0, 1], [0, 0, 2], [0, 1, 0], [0, 1, 1], [1, 0, 0], [1, 0, 1], [1, 1, 0], [1, 1, 2]]\n",
    "\n",
    "**Input Format**\n",
    "\n",
    "Four integers x, y, z and n, each on a separate line.\n",
    "\n",
    "**Constraints**\n",
    "\n",
    "Print the list in lexicographic increasing order."
   ]
  },
  {
   "cell_type": "code",
   "execution_count": 1,
   "id": "cca10cd3",
   "metadata": {},
   "outputs": [
    {
     "name": "stdout",
     "output_type": "stream",
     "text": [
      "1\n",
      "1\n",
      "1\n",
      "2\n",
      "[[0, 0, 0], [0, 0, 1], [0, 1, 0], [1, 0, 0], [1, 1, 1]]\n"
     ]
    }
   ],
   "source": [
    "if __name__ == '__main__':\n",
    "    x = int(input())\n",
    "    y = int(input())\n",
    "    z = int(input())\n",
    "    n = int(input())\n",
    "\n",
    "    print ([ [ i, j, k] for i in range( x + 1) for j in range( y + 1)           for k in range ( z + 1 ) if ( ( i + j + k) != n )])"
   ]
  },
  {
   "cell_type": "markdown",
   "id": "c986b16f",
   "metadata": {},
   "source": [
    "## Q7 Find the Runner-Up Score!\n",
    "\n",
    "Given the participants' score sheet for your University Sports Day, you are required to find\n",
    "the runner-up score. You are given n scores. Store them in a list and find the score of the\n",
    "runner-up.\n",
    "\n",
    "**Input Format**\n",
    "\n",
    "The first line contains n. The second line contains an array A[] of n integers each\n",
    "separated by a space.\n",
    "\n",
    "**Constraints**\n",
    "\n",
    "• 2 ≤ n ≤ 10\n",
    "\n",
    "• −100 ≤ A[i] ≤ 100\n",
    "\n",
    "**Output Format**\n",
    "\n",
    "Print the runner-up score."
   ]
  },
  {
   "cell_type": "code",
   "execution_count": 2,
   "id": "5715914e",
   "metadata": {},
   "outputs": [
    {
     "name": "stdout",
     "output_type": "stream",
     "text": [
      "5\n",
      "2 3 6 6 5\n",
      "5\n"
     ]
    }
   ],
   "source": [
    "if __name__ == '__main__':\n",
    "    n = int(input())\n",
    "    if(n>=2 and n<=10):\n",
    "      arr = map(int, input().split())\n",
    "      l1 = []\n",
    "      for i in arr:\n",
    "        l1.append(i)\n",
    "        # print(i)\n",
    "      # print(arr)\n",
    "      # print(l1)\n",
    "      l2 = []\n",
    "      for i in l1:\n",
    "        if i not in l2:\n",
    "          l2.append(i)\n",
    "      l2.sort()\n",
    "      # print(l2)\n",
    "      print(l2[-2])\n",
    "    else:\n",
    "      print(\"n must be greater than or equal to 2 or less than or equal to 10\")"
   ]
  },
  {
   "cell_type": "markdown",
   "id": "50347d76",
   "metadata": {},
   "source": [
    "## Q8 Nested Lists\n",
    "\n",
    "Given the names and grades for each student in a class of N students, store them in a\n",
    "nested list and print the name(s) of any student(s) having the second lowest grade.\n",
    "Note: If there are multiple students with the second lowest grade, order their names\n",
    "alphabetically and print each name on a new line.\n",
    "\n",
    "**Example**\n",
    "\n",
    "records = [[\"chi\", 20.0], [\"beta\", 50.0], [\"alpha\", 50.0]]\n",
    "\n",
    "The ordered list of scores is [20.0, 50.0], so the second lowest score is 50.0. There are two\n",
    "students with that score: [\"beta\", \"alpha\"]. Ordered alphabetically, the names are\n",
    "printed as:\n",
    "\n",
    "~~~ \n",
    "alpha\n",
    "beta  \n",
    "~~~\n",
    "\n",
    "**Input Format**\n",
    "\n",
    "The first line contains an integer, N, the number of students.\n",
    "\n",
    "The 2N subsequent lines describe each student over 2 lines.\n",
    "\n",
    "- The first line contains a student's name.\n",
    "- The second line contains their grade.\n",
    "\n",
    "**Constraints**\n",
    "\n",
    "• 2<N<5\n",
    "\n",
    "• There will always be one or more students having the second lowest grade.\n",
    "\n",
    "**Output Format**\n",
    "\n",
    "Print the name(s) of any student(s) having the second lowest grade in. If there are multiple students, order their names alphabetically and print each one on a new line."
   ]
  },
  {
   "cell_type": "code",
   "execution_count": 3,
   "id": "c15b1798",
   "metadata": {},
   "outputs": [
    {
     "name": "stdout",
     "output_type": "stream",
     "text": [
      "5\n",
      "Harry\n",
      "37.21\n",
      "Berry\n",
      "37.21\n",
      "Tina\n",
      "37.2\n",
      "Akriti\n",
      "41\n",
      "Harsh\n",
      "39\n",
      "Berry\n",
      "Harry\n"
     ]
    }
   ],
   "source": [
    "if __name__ == '__main__':\n",
    "    c = 0\n",
    "    l1 = []\n",
    "    score1 = []\n",
    "    for _ in range(int(input())):\n",
    "        name = input()\n",
    "        score = float(input())\n",
    "        l1.append([])\n",
    "        l1[c] = [name,score]\n",
    "        score1.append(score)\n",
    "        c += 1\n",
    "    # print(l1)\n",
    "    c = 0\n",
    "    sc = []\n",
    "    for i in score1:\n",
    "      if i not in sc:\n",
    "        sc.append(i)\n",
    "    sc.sort()\n",
    "    mx = sc[1]\n",
    "    n1 = []\n",
    "    for i in l1:\n",
    "      if mx in l1[c]:\n",
    "        n1.append(l1[c][0])\n",
    "      c +=1\n",
    "    n1.sort()\n",
    "    for i in n1:\n",
    "      print(i)\n"
   ]
  },
  {
   "cell_type": "markdown",
   "id": "9620d63e",
   "metadata": {},
   "source": [
    "## Q9 Finding the percentage\n",
    "\n",
    "The provided code stub will read in a dictionary containing key/value pairs of name:[marks]\n",
    "for a list of students. Print the average of the marks array for the student name provided,\n",
    "showing 2 places after the decimal.\n",
    "\n",
    "**Example**\n",
    "\n",
    "marks key:value pairs are\n",
    "\n",
    "'alpha': [20, 30, 40]\n",
    "\n",
    "'beta': [30, 50, 70]\n",
    "\n",
    "query_name = 'beta'\n",
    "\n",
    "The query_name is 'beta'. beta's average score is (30+50 +70)/3 = 50.0.\n",
    "\n",
    "**Input Format**\n",
    "\n",
    "The first line contains the integer n. the number of students' records. The next n lines\n",
    "contain the names and marks obtained by a student, each value separated by a space. The\n",
    "final line contains query_name, the name of a student to query.\n",
    "\n",
    "**Constraints**\n",
    "\n",
    "2 ≤ n ≤ 10\n",
    "\n",
    "0 ≤marks[i] ≤ 100\n",
    "\n",
    "length of marks arrays = 3\n",
    "\n",
    "**Output Format**\n",
    "\n",
    "Print one line: The average of the marks obtained by the particular student correct to 2\n",
    "decimal places.\n"
   ]
  },
  {
   "cell_type": "code",
   "execution_count": 4,
   "id": "430a1db3",
   "metadata": {},
   "outputs": [
    {
     "name": "stdout",
     "output_type": "stream",
     "text": [
      "3\n",
      "Krishna 67 68 69\n",
      "Arjun 70 98 63\n",
      "Malika 52 56 60\n",
      "Malika\n",
      "56.00\n"
     ]
    }
   ],
   "source": [
    "if __name__ == '__main__':\n",
    "    n = int(input())\n",
    "    student_marks = {}\n",
    "    l1 = []\n",
    "    for _ in range(n):\n",
    "        name, *line = input().split()\n",
    "        scores = list(map(float, line))\n",
    "        student_marks[name] = scores\n",
    "    query_name = input()\n",
    "    l1 = student_marks[query_name]\n",
    "    sum1 = 0\n",
    "    tn = 0\n",
    "    for i in l1:\n",
    "        sum1 = sum1 + i\n",
    "    tn = len(l1)\n",
    "    avg = sum1/tn\n",
    "    avg\n",
    "    result = format(avg, '.2f')\n",
    "    print(result)\n"
   ]
  },
  {
   "cell_type": "markdown",
   "id": "eed45a96",
   "metadata": {},
   "source": [
    "## Q10 Lists\n",
    "\n",
    "Consider a list (list = []). You can perform the following commands:\n",
    "1. insert i e: Insert integer e at position.\n",
    "2. print: Print the list.\n",
    "3. remove e: Delete the first occurrence of integer e.\n",
    "4. append e: Insert integer e at the end of the list.\n",
    "5. sort: Sort the list.\n",
    "6. pop: Pop the last element from the list.\n",
    "7. reverse: Reverse the list.\n",
    "\n",
    "Initialize your list and read in the value of n followed by n lines of commands where each\n",
    "command will be of the 7 types listed above. Iterate through each command in order and\n",
    "perform the corresponding operation on your list.\n",
    "\n",
    "**Example**\n",
    "\n",
    "N = 4\n",
    "\n",
    "append 1\n",
    "\n",
    "append 2\n",
    "\n",
    "insert 3 1\n",
    "\n",
    "print\n",
    "\n",
    "- append 1: Append 1 to the list, arr = [1].\n",
    "- append 2: Append 2 to the list, arr = = [1,2].\n",
    "- insert 3 1: Insert 3 at index 1, arr = [1, 3, 2].\n",
    "- print: Print the array."
   ]
  },
  {
   "cell_type": "code",
   "execution_count": 6,
   "id": "fffbc07e",
   "metadata": {},
   "outputs": [
    {
     "name": "stdout",
     "output_type": "stream",
     "text": [
      "12\n",
      "insert 0 5\n",
      "insert 1 10\n",
      "insert 0 6\n",
      "print\n",
      "[6, 5, 10]\n",
      "remove 6\n",
      "append 9\n",
      "append 1\n",
      "sort\n",
      "print\n",
      "[1, 5, 9, 10]\n",
      "pop\n",
      "reverse\n",
      "print\n",
      "[9, 5, 1]\n"
     ]
    }
   ],
   "source": [
    "if __name__ == '__main__':\n",
    "    N = int(input())\n",
    "    l = []\n",
    "    for i in range(N):\n",
    "        s = list(input().split())\n",
    "        if s[0]=='insert':\n",
    "            l.insert(int(s[1]),int(s[2]))\n",
    "        if s[0]=='remove':\n",
    "            l.remove(int(s[1]))\n",
    "        if s[0]=='append':\n",
    "            l.append(int(s[1]))\n",
    "        if s[0]=='sort':\n",
    "            l.sort()\n",
    "        if s[0]=='pop':\n",
    "            l.pop()\n",
    "        if s[0]=='reverse':\n",
    "            l.reverse()     \n",
    "        if s[0]=='print':\n",
    "            print(l)"
   ]
  }
 ],
 "metadata": {
  "kernelspec": {
   "display_name": "Python 3 (ipykernel)",
   "language": "python",
   "name": "python3"
  },
  "language_info": {
   "codemirror_mode": {
    "name": "ipython",
    "version": 3
   },
   "file_extension": ".py",
   "mimetype": "text/x-python",
   "name": "python",
   "nbconvert_exporter": "python",
   "pygments_lexer": "ipython3",
   "version": "3.9.13"
  }
 },
 "nbformat": 4,
 "nbformat_minor": 5
}
